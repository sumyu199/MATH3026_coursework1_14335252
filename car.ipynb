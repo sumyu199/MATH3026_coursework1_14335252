{
  "nbformat": 4,
  "nbformat_minor": 0,
  "metadata": {
    "colab": {
      "name": "car.ipynb",
      "provenance": [],
      "collapsed_sections": [],
      "include_colab_link": true
    },
    "kernelspec": {
      "name": "python3",
      "display_name": "Python 3"
    },
    "language_info": {
      "name": "python"
    }
  },
  "cells": [
    {
      "cell_type": "markdown",
      "metadata": {
        "id": "view-in-github",
        "colab_type": "text"
      },
      "source": [
        "<a href=\"https://colab.research.google.com/github/sumyu199/MATH3026_coursework1_14335252/blob/main/car.ipynb\" target=\"_parent\"><img src=\"https://colab.research.google.com/assets/colab-badge.svg\" alt=\"Open In Colab\"/></a>"
      ]
    },
    {
      "cell_type": "code",
      "metadata": {
        "id": "dRiJqngvPdzs"
      },
      "source": [
        "import pandas_datareader as web\n",
        "import pandas as pd\n",
        "import numpy as np\n",
        "from matplotlib import pyplot as plt\n",
        "import datetime\n",
        "from scipy.optimize import minimize\n",
        "import random\n",
        "import itertools\n",
        "import numpy"
      ],
      "execution_count": null,
      "outputs": []
    },
    {
      "cell_type": "code",
      "metadata": {
        "colab": {
          "base_uri": "https://localhost:8080/",
          "height": 521
        },
        "id": "xgDyiNyZ_bHT",
        "outputId": "030056d1-2f3a-49a2-b9e1-03da3befedb9"
      },
      "source": [
        "def load_data():\n",
        "    url = 'https://en.wikipedia.org/wiki/List_of_S%26P_500_companies'\n",
        "    html = pd.read_html(url, header = 0)\n",
        "    df = html[0]\n",
        "    return df\n",
        "\n",
        "#store the loaded data and group the data by sector\n",
        "df = load_data()\n",
        "\n",
        "df"
      ],
      "execution_count": null,
      "outputs": [
        {
          "output_type": "execute_result",
          "data": {
            "text/html": [
              "<div>\n",
              "<style scoped>\n",
              "    .dataframe tbody tr th:only-of-type {\n",
              "        vertical-align: middle;\n",
              "    }\n",
              "\n",
              "    .dataframe tbody tr th {\n",
              "        vertical-align: top;\n",
              "    }\n",
              "\n",
              "    .dataframe thead th {\n",
              "        text-align: right;\n",
              "    }\n",
              "</style>\n",
              "<table border=\"1\" class=\"dataframe\">\n",
              "  <thead>\n",
              "    <tr style=\"text-align: right;\">\n",
              "      <th></th>\n",
              "      <th>Symbol</th>\n",
              "      <th>Security</th>\n",
              "      <th>SEC filings</th>\n",
              "      <th>GICS Sector</th>\n",
              "      <th>GICS Sub-Industry</th>\n",
              "      <th>Headquarters Location</th>\n",
              "      <th>Date first added</th>\n",
              "      <th>CIK</th>\n",
              "      <th>Founded</th>\n",
              "    </tr>\n",
              "  </thead>\n",
              "  <tbody>\n",
              "    <tr>\n",
              "      <th>0</th>\n",
              "      <td>MMM</td>\n",
              "      <td>3M Company</td>\n",
              "      <td>reports</td>\n",
              "      <td>Industrials</td>\n",
              "      <td>Industrial Conglomerates</td>\n",
              "      <td>St. Paul, Minnesota</td>\n",
              "      <td>1976-08-09</td>\n",
              "      <td>66740</td>\n",
              "      <td>1902</td>\n",
              "    </tr>\n",
              "    <tr>\n",
              "      <th>1</th>\n",
              "      <td>ABT</td>\n",
              "      <td>Abbott Laboratories</td>\n",
              "      <td>reports</td>\n",
              "      <td>Health Care</td>\n",
              "      <td>Health Care Equipment</td>\n",
              "      <td>North Chicago, Illinois</td>\n",
              "      <td>1964-03-31</td>\n",
              "      <td>1800</td>\n",
              "      <td>1888</td>\n",
              "    </tr>\n",
              "    <tr>\n",
              "      <th>2</th>\n",
              "      <td>ABBV</td>\n",
              "      <td>AbbVie Inc.</td>\n",
              "      <td>reports</td>\n",
              "      <td>Health Care</td>\n",
              "      <td>Pharmaceuticals</td>\n",
              "      <td>North Chicago, Illinois</td>\n",
              "      <td>2012-12-31</td>\n",
              "      <td>1551152</td>\n",
              "      <td>2013 (1888)</td>\n",
              "    </tr>\n",
              "    <tr>\n",
              "      <th>3</th>\n",
              "      <td>ABMD</td>\n",
              "      <td>Abiomed</td>\n",
              "      <td>reports</td>\n",
              "      <td>Health Care</td>\n",
              "      <td>Health Care Equipment</td>\n",
              "      <td>Danvers, Massachusetts</td>\n",
              "      <td>2018-05-31</td>\n",
              "      <td>815094</td>\n",
              "      <td>1981</td>\n",
              "    </tr>\n",
              "    <tr>\n",
              "      <th>4</th>\n",
              "      <td>ACN</td>\n",
              "      <td>Accenture</td>\n",
              "      <td>reports</td>\n",
              "      <td>Information Technology</td>\n",
              "      <td>IT Consulting &amp; Other Services</td>\n",
              "      <td>Dublin, Ireland</td>\n",
              "      <td>2011-07-06</td>\n",
              "      <td>1467373</td>\n",
              "      <td>1989</td>\n",
              "    </tr>\n",
              "    <tr>\n",
              "      <th>...</th>\n",
              "      <td>...</td>\n",
              "      <td>...</td>\n",
              "      <td>...</td>\n",
              "      <td>...</td>\n",
              "      <td>...</td>\n",
              "      <td>...</td>\n",
              "      <td>...</td>\n",
              "      <td>...</td>\n",
              "      <td>...</td>\n",
              "    </tr>\n",
              "    <tr>\n",
              "      <th>500</th>\n",
              "      <td>YUM</td>\n",
              "      <td>Yum! Brands Inc</td>\n",
              "      <td>reports</td>\n",
              "      <td>Consumer Discretionary</td>\n",
              "      <td>Restaurants</td>\n",
              "      <td>Louisville, Kentucky</td>\n",
              "      <td>1997-10-06</td>\n",
              "      <td>1041061</td>\n",
              "      <td>1997</td>\n",
              "    </tr>\n",
              "    <tr>\n",
              "      <th>501</th>\n",
              "      <td>ZBRA</td>\n",
              "      <td>Zebra Technologies</td>\n",
              "      <td>reports</td>\n",
              "      <td>Information Technology</td>\n",
              "      <td>Electronic Equipment &amp; Instruments</td>\n",
              "      <td>Lincolnshire, Illinois</td>\n",
              "      <td>2019-12-23</td>\n",
              "      <td>877212</td>\n",
              "      <td>1969</td>\n",
              "    </tr>\n",
              "    <tr>\n",
              "      <th>502</th>\n",
              "      <td>ZBH</td>\n",
              "      <td>Zimmer Biomet</td>\n",
              "      <td>reports</td>\n",
              "      <td>Health Care</td>\n",
              "      <td>Health Care Equipment</td>\n",
              "      <td>Warsaw, Indiana</td>\n",
              "      <td>2001-08-07</td>\n",
              "      <td>1136869</td>\n",
              "      <td>1927</td>\n",
              "    </tr>\n",
              "    <tr>\n",
              "      <th>503</th>\n",
              "      <td>ZION</td>\n",
              "      <td>Zions Bancorp</td>\n",
              "      <td>reports</td>\n",
              "      <td>Financials</td>\n",
              "      <td>Regional Banks</td>\n",
              "      <td>Salt Lake City, Utah</td>\n",
              "      <td>2001-06-22</td>\n",
              "      <td>109380</td>\n",
              "      <td>1873</td>\n",
              "    </tr>\n",
              "    <tr>\n",
              "      <th>504</th>\n",
              "      <td>ZTS</td>\n",
              "      <td>Zoetis</td>\n",
              "      <td>reports</td>\n",
              "      <td>Health Care</td>\n",
              "      <td>Pharmaceuticals</td>\n",
              "      <td>Parsippany, New Jersey</td>\n",
              "      <td>2013-06-21</td>\n",
              "      <td>1555280</td>\n",
              "      <td>1952</td>\n",
              "    </tr>\n",
              "  </tbody>\n",
              "</table>\n",
              "<p>505 rows × 9 columns</p>\n",
              "</div>"
            ],
            "text/plain": [
              "    Symbol             Security  ...      CIK      Founded\n",
              "0      MMM           3M Company  ...    66740         1902\n",
              "1      ABT  Abbott Laboratories  ...     1800         1888\n",
              "2     ABBV          AbbVie Inc.  ...  1551152  2013 (1888)\n",
              "3     ABMD              Abiomed  ...   815094         1981\n",
              "4      ACN            Accenture  ...  1467373         1989\n",
              "..     ...                  ...  ...      ...          ...\n",
              "500    YUM      Yum! Brands Inc  ...  1041061         1997\n",
              "501   ZBRA   Zebra Technologies  ...   877212         1969\n",
              "502    ZBH        Zimmer Biomet  ...  1136869         1927\n",
              "503   ZION        Zions Bancorp  ...   109380         1873\n",
              "504    ZTS               Zoetis  ...  1555280         1952\n",
              "\n",
              "[505 rows x 9 columns]"
            ]
          },
          "metadata": {
            "tags": []
          },
          "execution_count": 71
        }
      ]
    },
    {
      "cell_type": "code",
      "metadata": {
        "colab": {
          "base_uri": "https://localhost:8080/",
          "height": 419
        },
        "id": "HeuFn-NLAB4L",
        "outputId": "14bed3f8-4ac8-46bc-957c-f3e58bd64fec"
      },
      "source": [
        "#extract data we needed \n",
        "topstock = pd.DataFrame()\n",
        "topstock[\"Symbol\"] = df[\"Symbol\"]\n",
        "topstock[\"Security\"] = df[\"Security\"]\n",
        "topstock[\"GICS Sector\"] = df[\"GICS Sector\"]\n",
        "topstock"
      ],
      "execution_count": null,
      "outputs": [
        {
          "output_type": "execute_result",
          "data": {
            "text/html": [
              "<div>\n",
              "<style scoped>\n",
              "    .dataframe tbody tr th:only-of-type {\n",
              "        vertical-align: middle;\n",
              "    }\n",
              "\n",
              "    .dataframe tbody tr th {\n",
              "        vertical-align: top;\n",
              "    }\n",
              "\n",
              "    .dataframe thead th {\n",
              "        text-align: right;\n",
              "    }\n",
              "</style>\n",
              "<table border=\"1\" class=\"dataframe\">\n",
              "  <thead>\n",
              "    <tr style=\"text-align: right;\">\n",
              "      <th></th>\n",
              "      <th>Symbol</th>\n",
              "      <th>Security</th>\n",
              "      <th>GICS Sector</th>\n",
              "    </tr>\n",
              "  </thead>\n",
              "  <tbody>\n",
              "    <tr>\n",
              "      <th>0</th>\n",
              "      <td>MMM</td>\n",
              "      <td>3M Company</td>\n",
              "      <td>Industrials</td>\n",
              "    </tr>\n",
              "    <tr>\n",
              "      <th>1</th>\n",
              "      <td>ABT</td>\n",
              "      <td>Abbott Laboratories</td>\n",
              "      <td>Health Care</td>\n",
              "    </tr>\n",
              "    <tr>\n",
              "      <th>2</th>\n",
              "      <td>ABBV</td>\n",
              "      <td>AbbVie Inc.</td>\n",
              "      <td>Health Care</td>\n",
              "    </tr>\n",
              "    <tr>\n",
              "      <th>3</th>\n",
              "      <td>ABMD</td>\n",
              "      <td>Abiomed</td>\n",
              "      <td>Health Care</td>\n",
              "    </tr>\n",
              "    <tr>\n",
              "      <th>4</th>\n",
              "      <td>ACN</td>\n",
              "      <td>Accenture</td>\n",
              "      <td>Information Technology</td>\n",
              "    </tr>\n",
              "    <tr>\n",
              "      <th>...</th>\n",
              "      <td>...</td>\n",
              "      <td>...</td>\n",
              "      <td>...</td>\n",
              "    </tr>\n",
              "    <tr>\n",
              "      <th>500</th>\n",
              "      <td>YUM</td>\n",
              "      <td>Yum! Brands Inc</td>\n",
              "      <td>Consumer Discretionary</td>\n",
              "    </tr>\n",
              "    <tr>\n",
              "      <th>501</th>\n",
              "      <td>ZBRA</td>\n",
              "      <td>Zebra Technologies</td>\n",
              "      <td>Information Technology</td>\n",
              "    </tr>\n",
              "    <tr>\n",
              "      <th>502</th>\n",
              "      <td>ZBH</td>\n",
              "      <td>Zimmer Biomet</td>\n",
              "      <td>Health Care</td>\n",
              "    </tr>\n",
              "    <tr>\n",
              "      <th>503</th>\n",
              "      <td>ZION</td>\n",
              "      <td>Zions Bancorp</td>\n",
              "      <td>Financials</td>\n",
              "    </tr>\n",
              "    <tr>\n",
              "      <th>504</th>\n",
              "      <td>ZTS</td>\n",
              "      <td>Zoetis</td>\n",
              "      <td>Health Care</td>\n",
              "    </tr>\n",
              "  </tbody>\n",
              "</table>\n",
              "<p>505 rows × 3 columns</p>\n",
              "</div>"
            ],
            "text/plain": [
              "    Symbol             Security             GICS Sector\n",
              "0      MMM           3M Company             Industrials\n",
              "1      ABT  Abbott Laboratories             Health Care\n",
              "2     ABBV          AbbVie Inc.             Health Care\n",
              "3     ABMD              Abiomed             Health Care\n",
              "4      ACN            Accenture  Information Technology\n",
              "..     ...                  ...                     ...\n",
              "500    YUM      Yum! Brands Inc  Consumer Discretionary\n",
              "501   ZBRA   Zebra Technologies  Information Technology\n",
              "502    ZBH        Zimmer Biomet             Health Care\n",
              "503   ZION        Zions Bancorp              Financials\n",
              "504    ZTS               Zoetis             Health Care\n",
              "\n",
              "[505 rows x 3 columns]"
            ]
          },
          "metadata": {
            "tags": []
          },
          "execution_count": 72
        }
      ]
    },
    {
      "cell_type": "code",
      "metadata": {
        "colab": {
          "base_uri": "https://localhost:8080/"
        },
        "id": "aRLPTYdBAySk",
        "outputId": "fb3ba197-65c7-462c-d16d-522d560422c6"
      },
      "source": [
        "#group the sector \n",
        "sector = topstock['GICS Sector'].unique().tolist()\n",
        "sector"
      ],
      "execution_count": null,
      "outputs": [
        {
          "output_type": "execute_result",
          "data": {
            "text/plain": [
              "['Industrials',\n",
              " 'Health Care',\n",
              " 'Information Technology',\n",
              " 'Communication Services',\n",
              " 'Consumer Discretionary',\n",
              " 'Utilities',\n",
              " 'Financials',\n",
              " 'Materials',\n",
              " 'Real Estate',\n",
              " 'Consumer Staples',\n",
              " 'Energy']"
            ]
          },
          "metadata": {
            "tags": []
          },
          "execution_count": 73
        }
      ]
    },
    {
      "cell_type": "code",
      "metadata": {
        "colab": {
          "base_uri": "https://localhost:8080/"
        },
        "id": "UmekOqePCxpP",
        "outputId": "61e05475-02f7-4514-d223-2ef56269e914"
      },
      "source": [
        "#we randomly select 10 stocks from all 11 industries\n",
        "symbols = []\n",
        "for i in sector:\n",
        "  data = topstock.loc[topstock[\"GICS Sector\"] == i ]\n",
        "  symbols.append(random.sample(data['Symbol'].tolist(), 5))\n",
        "print(list(zip(sector,symbols)))"
      ],
      "execution_count": null,
      "outputs": [
        {
          "output_type": "stream",
          "text": [
            "[('Industrials', ['IEX', 'EMR', 'LDOS', 'J', 'RSG']), ('Health Care', ['UNH', 'HUM', 'DXCM', 'MRK', 'SYK']), ('Information Technology', ['TER', 'CSCO', 'VRSN', 'INTC', 'AMAT']), ('Communication Services', ['GOOG', 'CHTR', 'T', 'FOX', 'FB']), ('Consumer Discretionary', ['DHI', 'DLTR', 'HD', 'BWA', 'MHK']), ('Utilities', ['AES', 'CMS', 'ES', 'LNT', 'ED']), ('Financials', ['AJG', 'FITB', 'AON', 'MTB', 'MS']), ('Materials', ['PPG', 'ALB', 'MLM', 'AMCR', 'SHW']), ('Real Estate', ['CCI', 'VTR', 'O', 'SPG', 'WELL']), ('Consumer Staples', ['LW', 'CPB', 'STZ', 'KO', 'KHC']), ('Energy', ['NOV', 'PSX', 'DVN', 'APA', 'PXD'])]\n"
          ],
          "name": "stdout"
        }
      ]
    },
    {
      "cell_type": "code",
      "metadata": {
        "id": "AAGc9pYNHlPE"
      },
      "source": [
        "combin_industry = []\n",
        "\n",
        "combinations_object = itertools.combinations(symbols, 3)\n",
        "combinations_list = list(combinations_object)\n",
        "combin_industry.append(combinations_list)\n",
        "\n"
      ],
      "execution_count": null,
      "outputs": []
    },
    {
      "cell_type": "code",
      "metadata": {
        "colab": {
          "base_uri": "https://localhost:8080/"
        },
        "id": "lEcDhWWjrDqU",
        "outputId": "5bd7bbb2-c759-493e-b94a-779a2e8bf4d2"
      },
      "source": [
        "symbols = combin_industry[0][0]\n",
        "symbols = list(itertools.chain.from_iterable(symbols))\n",
        "symbols"
      ],
      "execution_count": null,
      "outputs": [
        {
          "output_type": "execute_result",
          "data": {
            "text/plain": [
              "['IEX',\n",
              " 'EMR',\n",
              " 'LDOS',\n",
              " 'J',\n",
              " 'RSG',\n",
              " 'UNH',\n",
              " 'HUM',\n",
              " 'DXCM',\n",
              " 'MRK',\n",
              " 'SYK',\n",
              " 'TER',\n",
              " 'CSCO',\n",
              " 'VRSN',\n",
              " 'INTC',\n",
              " 'AMAT']"
            ]
          },
          "metadata": {
            "tags": []
          },
          "execution_count": 76
        }
      ]
    },
    {
      "cell_type": "code",
      "metadata": {
        "id": "KXbKRcknPemx"
      },
      "source": [
        "\n",
        "all_stocks = pd.DataFrame()\n",
        "start = datetime.datetime(2020, 12, 1)\n",
        "end = datetime.datetime(2021, 4, 16)\n",
        "  \n",
        "for symbol in symbols:\n",
        "    data = web.DataReader(symbol, 'yahoo', start, end)\n",
        "    data.to_csv('histdata.csv')\n",
        "    data = pd.read_csv('histdata.csv')\n",
        "    tmp = data['Close']\n",
        "    all_stocks = pd.concat([all_stocks, tmp], axis=1)\n",
        " \n",
        "all_stocks.columns=symbols\n",
        "  #return including transaction cost \n"
      ],
      "execution_count": null,
      "outputs": []
    },
    {
      "cell_type": "code",
      "metadata": {
        "id": "2A6aWDjXgVRy"
      },
      "source": [
        "all_stocks"
      ],
      "execution_count": null,
      "outputs": []
    },
    {
      "cell_type": "code",
      "metadata": {
        "id": "6o0IicF2s9ji"
      },
      "source": [
        "all_stocks.shift(1)"
      ],
      "execution_count": null,
      "outputs": []
    },
    {
      "cell_type": "code",
      "metadata": {
        "id": "0FtLl1fC6tNt"
      },
      "source": [
        "cov_matrix = all_stocks.pct_change().apply(lambda x: np.log(1+x)).cov()\n",
        "cov_matrix"
      ],
      "execution_count": null,
      "outputs": []
    },
    {
      "cell_type": "code",
      "metadata": {
        "id": "lPeMohMb67YC"
      },
      "source": [
        "corr_matrix = all_stocks.pct_change().apply(lambda x: np.log(1+x)).corr()\n",
        "corr_matrix"
      ],
      "execution_count": null,
      "outputs": []
    },
    {
      "cell_type": "code",
      "metadata": {
        "id": "fXf_I2i_fAYX"
      },
      "source": [
        "returns = np.log(all_stocks/all_stocks.shift(1)).dropna(how=\"any\")\n",
        "\n",
        "returns"
      ],
      "execution_count": null,
      "outputs": []
    },
    {
      "cell_type": "code",
      "metadata": {
        "id": "ny9mtCG41LS7"
      },
      "source": [
        "returns.plot(figsize=(12,10))"
      ],
      "execution_count": null,
      "outputs": []
    },
    {
      "cell_type": "code",
      "metadata": {
        "id": "8NYdyoUIryyK"
      },
      "source": [
        "returns.mean()"
      ],
      "execution_count": null,
      "outputs": []
    },
    {
      "cell_type": "code",
      "metadata": {
        "id": "fq9pJmo7rw3V"
      },
      "source": [
        "returns.mean().mean()"
      ],
      "execution_count": null,
      "outputs": []
    },
    {
      "cell_type": "code",
      "metadata": {
        "id": "NXRy_ALPPsg0"
      },
      "source": [
        "# the objective function is to minimize the portfolio risk\n",
        "def objective(weights): \n",
        "    weights = np.array(weights)\n",
        "    return weights.dot(returns.cov()).dot(weights.T)\n",
        " \n",
        " \n",
        " \n",
        "# The constraints\n",
        "cons = (# The weights must sum up to one.\n",
        "        {\"type\":\"eq\", \"fun\": lambda x: np.sum(x)-1}, \n",
        "        # This constraints says that the inequalities (ineq) must be non-negative.\n",
        "        # The expected daily return of our portfolio and we want to be at greater than 0.003\n",
        "        {\"type\": \"ineq\", \"fun\": lambda x: np.sum(returns.mean()*x)-0.003}) \n",
        " \n",
        " \n",
        "# Every stock can get any weight from 0 to 1\n",
        "bounds = tuple((0,1) for x in range(returns.shape[1])) \n",
        " \n",
        "# Initialize the weights with an even split\n",
        "# In out case each stock will have 10% at the beginning\n",
        "guess = [1./returns.shape[1] for x in range(returns.shape[1])]\n",
        " \n",
        " \n",
        "optimized_results = minimize(objective, guess, method = \"SLSQP\", bounds=bounds, constraints=cons)\n",
        "optimized_results"
      ],
      "execution_count": null,
      "outputs": []
    },
    {
      "cell_type": "code",
      "metadata": {
        "id": "dyUA71R3PuWb"
      },
      "source": [
        "optimized_results.x"
      ],
      "execution_count": null,
      "outputs": []
    },
    {
      "cell_type": "code",
      "metadata": {
        "id": "W2hHhiXLPvS9"
      },
      "source": [
        "# we get 1\n",
        "np.sum(optimized_results.x)"
      ],
      "execution_count": null,
      "outputs": []
    },
    {
      "cell_type": "code",
      "metadata": {
        "id": "hfQUzZBdP0Nl"
      },
      "source": [
        "np.sum(returns.mean()*optimized_results.x)"
      ],
      "execution_count": null,
      "outputs": []
    },
    {
      "cell_type": "code",
      "metadata": {
        "id": "-PuMGMMUP2Qk"
      },
      "source": [
        "port1 = pd.DataFrame(list(zip(symbols, optimized_results.x)), columns=['Symbol', 'Weight'])\n",
        "port1"
      ],
      "execution_count": null,
      "outputs": []
    },
    {
      "cell_type": "code",
      "metadata": {
        "id": "ospvHb7C3k6L"
      },
      "source": [
        "port1_dict = dict(zip(symbols, optimized_results.x))"
      ],
      "execution_count": null,
      "outputs": []
    },
    {
      "cell_type": "code",
      "metadata": {
        "id": "JIxCBa1w7SR4"
      },
      "source": [
        "port_var1 = cov_matrix.mul(port1_dict, axis=0).mul(port1_dict, axis=1).sum().sum()\n",
        "port_var1"
      ],
      "execution_count": null,
      "outputs": []
    },
    {
      "cell_type": "code",
      "metadata": {
        "id": "EElg9-o2RXha"
      },
      "source": [
        "returns1 = returns*0.975"
      ],
      "execution_count": null,
      "outputs": []
    },
    {
      "cell_type": "code",
      "metadata": {
        "id": "Q2fzzSZiwfKr"
      },
      "source": [
        "returns1.mean()"
      ],
      "execution_count": null,
      "outputs": []
    },
    {
      "cell_type": "code",
      "metadata": {
        "id": "jegY0NGuwqkf"
      },
      "source": [
        "returns1.mean().mean()"
      ],
      "execution_count": null,
      "outputs": []
    },
    {
      "cell_type": "code",
      "metadata": {
        "id": "OI1LyyJIww9e"
      },
      "source": [
        "# the objective function is to minimize the portfolio risk\n",
        "def objective2(weights): \n",
        "    weights = np.array(weights)\n",
        "    return weights.dot(returns1.cov()).dot(weights.T)\n",
        " \n",
        " \n",
        " \n",
        "# The constraints\n",
        "cons2 = (# The weights must sum up to one.\n",
        "        {\"type\":\"eq\", \"fun\": lambda x: np.sum(x)-1}, \n",
        "        # This constraints says that the inequalities (ineq) must be non-negative.\n",
        "        # The expected daily return of our portfolio and we want to be at greater than 0.003\n",
        "        {\"type\": \"ineq\", \"fun\": lambda x: np.sum(returns1.mean()*x)-0.003}) \n",
        " \n",
        " \n",
        "# Every stock can get any weight from 0 to 1\n",
        "bounds2 = tuple((0,1) for x in range(returns1.shape[1])) \n",
        " \n",
        "# Initialize the weights with an even split\n",
        "# In out case each stock will have 10% at the beginning\n",
        "guess2 = [1./returns1.shape[1] for x in range(returns1.shape[1])]\n",
        " \n",
        " \n",
        "optimized_results2 = minimize(objective2, guess2, method = \"SLSQP\", bounds=bounds2, constraints=cons2)\n",
        "optimized_results2"
      ],
      "execution_count": null,
      "outputs": []
    },
    {
      "cell_type": "code",
      "metadata": {
        "id": "Rg2tHHDqxVpr"
      },
      "source": [
        "optimized_results2.x"
      ],
      "execution_count": null,
      "outputs": []
    },
    {
      "cell_type": "code",
      "metadata": {
        "id": "58cY6GSaxb8e"
      },
      "source": [
        "np.sum(optimized_results2.x)"
      ],
      "execution_count": null,
      "outputs": []
    },
    {
      "cell_type": "code",
      "metadata": {
        "id": "u7AOv4Rrxhtj"
      },
      "source": [
        "np.sum(returns1.mean()*optimized_results2.x)"
      ],
      "execution_count": null,
      "outputs": []
    },
    {
      "cell_type": "code",
      "metadata": {
        "id": "26jARXkaxh2M"
      },
      "source": [
        "pd.DataFrame(list(zip(symbols, optimized_results2.x)), columns=['Symbol', 'Weight'])"
      ],
      "execution_count": null,
      "outputs": []
    },
    {
      "cell_type": "code",
      "metadata": {
        "id": "VHxY2Zy53ZZ4"
      },
      "source": [
        "port2_dict = dict(zip(symbols, optimized_results2.x))"
      ],
      "execution_count": null,
      "outputs": []
    },
    {
      "cell_type": "code",
      "metadata": {
        "id": "0EP9KA8u7rqa"
      },
      "source": [
        "port_var2 = cov_matrix.mul(port2_dict, axis=0).mul(port2_dict, axis=1).sum().sum()\n",
        "port_var2"
      ],
      "execution_count": null,
      "outputs": []
    },
    {
      "cell_type": "code",
      "metadata": {
        "id": "MnFtDjJ4j6z-"
      },
      "source": [
        "ann_sd = all_stocks.pct_change().apply(lambda x: np.log(1+x)).std().apply(lambda x: x*np.sqrt(94))\n",
        "ann_sd"
      ],
      "execution_count": null,
      "outputs": []
    }
  ]
}